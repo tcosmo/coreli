{
 "cells": [
  {
   "cell_type": "code",
   "execution_count": 2,
   "id": "f3bbf2fe",
   "metadata": {},
   "outputs": [],
   "source": [
    "import sympy"
   ]
  },
  {
   "cell_type": "code",
   "execution_count": 3,
   "id": "33a537f9",
   "metadata": {},
   "outputs": [],
   "source": [
    "def tiles_to_base_3o2(tiles):\n",
    "    r = sympy.Rational(0,1)\n",
    "    the_map = {0: 0, 1: 0, 2: 1, 3: sympy.Rational(-1,2), 4: sympy.Rational(1,2), 5: sympy.Rational(1,2)}\n",
    "    for i, t in enumerate(tiles):\n",
    "        r += sympy.Rational(3,2)**i * the_map[t]\n",
    "    return r"
   ]
  },
  {
   "cell_type": "code",
   "execution_count": 8,
   "id": "a7f474a7",
   "metadata": {},
   "outputs": [
    {
     "data": {
      "text/latex": [
       "$\\displaystyle \\frac{2465}{128}$"
      ],
      "text/plain": [
       "2465/128"
      ]
     },
     "execution_count": 8,
     "metadata": {},
     "output_type": "execute_result"
    }
   ],
   "source": [
    "tiles_to_base_3o2([2,5,1,5,5,2,4])"
   ]
  },
  {
   "cell_type": "code",
   "execution_count": 9,
   "id": "d46d9b54",
   "metadata": {},
   "outputs": [
    {
     "data": {
      "text/latex": [
       "$\\displaystyle 20$"
      ],
      "text/plain": [
       "20"
      ]
     },
     "execution_count": 9,
     "metadata": {},
     "output_type": "execute_result"
    }
   ],
   "source": [
    "tiles_to_base_3o2([2,5,1,5,5,2,4][::-1])"
   ]
  },
  {
   "cell_type": "code",
   "execution_count": 7,
   "id": "a4c2316a",
   "metadata": {},
   "outputs": [
    {
     "data": {
      "text/plain": [
       "12.171875"
      ]
     },
     "execution_count": 7,
     "metadata": {},
     "output_type": "execute_result"
    }
   ],
   "source": [
    "779/64"
   ]
  },
  {
   "cell_type": "code",
   "execution_count": null,
   "id": "1b5defed",
   "metadata": {},
   "outputs": [],
   "source": []
  }
 ],
 "metadata": {
  "kernelspec": {
   "display_name": "venv",
   "language": "python",
   "name": "python3"
  },
  "language_info": {
   "codemirror_mode": {
    "name": "ipython",
    "version": 3
   },
   "file_extension": ".py",
   "mimetype": "text/x-python",
   "name": "python",
   "nbconvert_exporter": "python",
   "pygments_lexer": "ipython3",
   "version": "3.13.3"
  }
 },
 "nbformat": 4,
 "nbformat_minor": 5
}
