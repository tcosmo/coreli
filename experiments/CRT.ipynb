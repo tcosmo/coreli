{
 "cells": [
  {
   "cell_type": "code",
   "execution_count": 2,
   "id": "eb4cdb32",
   "metadata": {},
   "outputs": [
    {
     "name": "stdout",
     "output_type": "stream",
     "text": [
      "x ≡ 5 mod 6\n"
     ]
    }
   ],
   "source": [
    "def extended_gcd(a, b):\n",
    "    \"\"\"Extended Euclidean Algorithm.\n",
    "    Returns (gcd, x, y) such that a*x + b*y = gcd\"\"\"\n",
    "    if b == 0:\n",
    "        return (a, 1, 0)\n",
    "    else:\n",
    "        g, x1, y1 = extended_gcd(b, a % b)\n",
    "        return (g, y1, x1 - (a // b) * y1)\n",
    "\n",
    "def crt(a, b, A, B):\n",
    "    \"\"\"Chinese Remainder Theorem for coprime A and B.\n",
    "    Returns x such that x ≡ a mod A and x ≡ b mod B.\"\"\"\n",
    "    g, m1, m2 = extended_gcd(A, B)\n",
    "    if g != 1:\n",
    "        raise ValueError(\"A and B must be coprime\")\n",
    "    \n",
    "    # Compute the solution modulo A * B\n",
    "    x = (a * m2 * B + b * m1 * A) % (A * B)\n",
    "    return x\n",
    "\n",
    "# Example usage:\n",
    "a, b, A, B = 1, 2, 2, 3\n",
    "x = crt(a, b, A, B)\n",
    "print(f\"x ≡ {x} mod {A*B}\")"
   ]
  },
  {
   "cell_type": "code",
   "execution_count": 21,
   "id": "22b89162",
   "metadata": {},
   "outputs": [
    {
     "name": "stdout",
     "output_type": "stream",
     "text": [
      "3 2 188 243\n",
      "6 5 53216 177147\n"
     ]
    }
   ],
   "source": [
    "for k in range(2,500):\n",
    "  for l in range(1,k):\n",
    "    n = k+l\n",
    "    A = 2**n\n",
    "    B = 3**k\n",
    "    c = crt((2**k-1)*2**l, 3**k-1, A, B)\n",
    "    if not (c > 3**n):\n",
    "      print(k,l,c,3**n)"
   ]
  },
  {
   "cell_type": "code",
   "execution_count": 29,
   "id": "d59eaf9d",
   "metadata": {},
   "outputs": [],
   "source": [
    "def ternary (n):\n",
    "    if n == 0:\n",
    "        return '0'\n",
    "    nums = []\n",
    "    while n:\n",
    "        n, r = divmod(n, 3)\n",
    "        nums.append(str(r))\n",
    "    return ''.join(reversed(nums))"
   ]
  },
  {
   "cell_type": "code",
   "execution_count": 30,
   "id": "87fd4a2a",
   "metadata": {},
   "outputs": [
    {
     "name": "stdout",
     "output_type": "stream",
     "text": [
      "7775\n",
      "\t 0b1111001011111 101122222\n",
      "\n",
      "1214\n",
      "\t 0b10010111110 1122222\n",
      "\n",
      "3644\n",
      "\t 0b111000111100 11222222\n",
      "\n",
      "728\n",
      "\t 0b1011011000 222222\n",
      "\n",
      "2672\n",
      "\t 0b101001110000 10122222\n",
      "\n",
      "6560\n",
      "\t 0b1100110100000 22222222\n",
      "\n"
     ]
    }
   ],
   "source": [
    "k = 5\n",
    "for m in range(0,k+1):\n",
    "  n = k\n",
    "  A = 2**n\n",
    "  B = 3**k\n",
    "  c = crt((2**(k-m)-1)*2**m, 3**k-1, A, B)\n",
    "  print(c)\n",
    "  print(\"\\t\", bin(c), ternary(c))\n",
    "  print()"
   ]
  },
  {
   "cell_type": "code",
   "execution_count": 27,
   "id": "85056376",
   "metadata": {},
   "outputs": [
    {
     "data": {
      "text/plain": [
       "'0b1111001011111'"
      ]
     },
     "execution_count": 27,
     "metadata": {},
     "output_type": "execute_result"
    }
   ],
   "source": [
    "bin(7775)"
   ]
  },
  {
   "cell_type": "code",
   "execution_count": null,
   "id": "3e8d0d0e",
   "metadata": {},
   "outputs": [],
   "source": []
  }
 ],
 "metadata": {
  "kernelspec": {
   "display_name": "base",
   "language": "python",
   "name": "python3"
  },
  "language_info": {
   "codemirror_mode": {
    "name": "ipython",
    "version": 3
   },
   "file_extension": ".py",
   "mimetype": "text/x-python",
   "name": "python",
   "nbconvert_exporter": "python",
   "pygments_lexer": "ipython3",
   "version": "3.11.12"
  }
 },
 "nbformat": 4,
 "nbformat_minor": 5
}
