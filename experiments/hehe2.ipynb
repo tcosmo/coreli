{
 "cells": [
  {
   "cell_type": "code",
   "execution_count": 1,
   "id": "e3a5a151-048c-4eac-a519-7d74cad54312",
   "metadata": {},
   "outputs": [],
   "source": [
    "%load_ext autoreload\n",
    "%autoreload 2"
   ]
  },
  {
   "cell_type": "code",
   "execution_count": 11,
   "id": "01658425-937a-4e0e-8abd-02236cb4fabf",
   "metadata": {},
   "outputs": [],
   "source": [
    "import svg\n",
    "from hehe2 import *\n",
    "from IPython.display import SVG, display"
   ]
  },
  {
   "cell_type": "code",
   "execution_count": 12,
   "id": "d24c640b-412b-4ac7-871c-f498b25259af",
   "metadata": {},
   "outputs": [],
   "source": [
    "def show_svg(canvas: svg.SVG):\n",
    "    display(SVG(str(canvas)))"
   ]
  },
  {
   "cell_type": "code",
   "execution_count": 13,
   "id": "7d866ca3-7051-4fe7-9308-d19f5d0f4b27",
   "metadata": {},
   "outputs": [],
   "source": [
    "def test_ValuedPath_func_via_pv(num_tests=100, len_pv=10):\n",
    "    for _ in range(num_tests):\n",
    "        pv = coreli.ParityVector.get_random_parity_vector(len_pv)\n",
    "        a, b = pv.first_occurrence()\n",
    "        vap = ValuedPath.from_parity_vector(pv)\n",
    "        assert(vap.func().subs(vap.x,a) == b)\n",
    "test_ValuedPath_func_via_pv()"
   ]
  },
  {
   "cell_type": "code",
   "execution_count": 146,
   "id": "3bb12720-9e56-4793-b579-0632cec1055a",
   "metadata": {
    "scrolled": true
   },
   "outputs": [],
   "source": [
    "def test_world_read_via_pv(num_tests=1000, len_pv=10):\n",
    "    for _ in range(num_tests):\n",
    "        pv = coreli.ParityVector.get_random_parity_vector(len_pv)\n",
    "        vap = ValuedPath.from_parity_vector(pv)\n",
    "        world2 = World()\n",
    "        world2.place_initial_valued_path(vap)\n",
    "        top = world2.read(['→']*len_pv, pos=(-1*len_pv,0), compute_missing=True)\n",
    "        k = pv.odd_len()\n",
    "        top_str = \"\".join(list(map(lambda x: str(x), top)))\n",
    "        a = int(top_str,2)\n",
    "        if k == 0:\n",
    "            assert(a == 0)\n",
    "            return\n",
    "        \n",
    "        left = world2.read(['↓']*k, pos=(-1*len_pv,0), compute_missing=True)\n",
    "        left_str = \"\".join(list(map(lambda x: str(x), left)))\n",
    "        b = int(left_str,3)\n",
    "        assert(coreli.iterate(coreli.T, len_pv, a) == b)\n",
    "test_world_read_via_pv()"
   ]
  },
  {
   "cell_type": "code",
   "execution_count": 147,
   "id": "0eac7a8a-2187-4960-ab42-54edd7f3681a",
   "metadata": {},
   "outputs": [],
   "source": [
    "pv = coreli.ParityVector([0, 0, 1, 0, 1, 1, 1, 1, 1, 0])\n",
    "vap = ValuedPath.from_parity_vector(pv)\n",
    "world = World()\n",
    "world.place_initial_valued_path(vap)\n",
    "world.read(['→']*10, pos=(-10,0), compute_missing=True)\n",
    "left = world.read(['↓']*k, pos=(-10,0), compute_missing=True)"
   ]
  },
  {
   "cell_type": "code",
   "execution_count": 148,
   "id": "75d6d42b-a1c5-4a87-abd9-cbfe70aebcc7",
   "metadata": {},
   "outputs": [
    {
     "data": {
      "image/svg+xml": [
       "<svg xmlns=\"http://www.w3.org/2000/svg\" width=\"220\" height=\"160\"><rect x=\"0\" y=\"0\" width=\"220\" height=\"160\" fill=\"grey\"/><line stroke=\"beige\" stroke-width=\"2\" x1=\"200\" y1=\"20\" x2=\"220\" y2=\"20\"/><line stroke=\"beige\" stroke-width=\"2\" x1=\"200\" y1=\"20\" x2=\"220\" y2=\"20\"/><line stroke=\"beige\" stroke-width=\"2\" x1=\"180\" y1=\"20\" x2=\"200\" y2=\"20\"/><line stroke=\"beige\" stroke-width=\"2\" x1=\"180\" y1=\"20\" x2=\"200\" y2=\"20\"/><line stroke=\"green\" stroke-width=\"2\" x1=\"180\" y1=\"20\" x2=\"180\" y2=\"40\"/><line stroke=\"green\" stroke-width=\"2\" x1=\"160\" y1=\"20\" x2=\"180\" y2=\"20\"/><line stroke=\"beige\" stroke-width=\"2\" x1=\"160\" y1=\"40\" x2=\"180\" y2=\"40\"/><line stroke=\"beige\" stroke-width=\"2\" x1=\"140\" y1=\"20\" x2=\"160\" y2=\"20\"/><line stroke=\"red\" stroke-width=\"2\" x1=\"160\" y1=\"20\" x2=\"160\" y2=\"40\"/><line stroke=\"beige\" stroke-width=\"2\" x1=\"140\" y1=\"40\" x2=\"160\" y2=\"40\"/><line stroke=\"green\" stroke-width=\"2\" x1=\"140\" y1=\"20\" x2=\"140\" y2=\"40\"/><text dominant-baseline=\"middle\" text-anchor=\"middle\" font-size=\"13.333333333333334\" fill=\"black\" x=\"150.0\" y=\"30.0\">2</text><line stroke=\"green\" stroke-width=\"2\" x1=\"160\" y1=\"20\" x2=\"180\" y2=\"20\"/><line stroke=\"green\" stroke-width=\"2\" x1=\"180\" y1=\"20\" x2=\"180\" y2=\"40\"/><line stroke=\"beige\" stroke-width=\"2\" x1=\"160\" y1=\"40\" x2=\"180\" y2=\"40\"/><line stroke=\"red\" stroke-width=\"2\" x1=\"160\" y1=\"20\" x2=\"160\" y2=\"40\"/><text dominant-baseline=\"middle\" text-anchor=\"middle\" font-size=\"13.333333333333334\" fill=\"black\" x=\"170.0\" y=\"30.0\">4</text><line stroke=\"beige\" stroke-width=\"2\" x1=\"140\" y1=\"40\" x2=\"160\" y2=\"40\"/><line stroke=\"green\" stroke-width=\"2\" x1=\"140\" y1=\"40\" x2=\"140\" y2=\"60\"/><line stroke=\"beige\" stroke-width=\"2\" x1=\"120\" y1=\"20\" x2=\"140\" y2=\"20\"/><line stroke=\"green\" stroke-width=\"2\" x1=\"140\" y1=\"20\" x2=\"140\" y2=\"40\"/><line stroke=\"green\" stroke-width=\"2\" x1=\"120\" y1=\"40\" x2=\"140\" y2=\"40\"/><line stroke=\"beige\" stroke-width=\"2\" x1=\"120\" y1=\"20\" x2=\"120\" y2=\"40\"/><text dominant-baseline=\"middle\" text-anchor=\"middle\" font-size=\"13.333333333333334\" fill=\"black\" x=\"130.0\" y=\"30.0\">1</text><line stroke=\"beige\" stroke-width=\"2\" x1=\"120\" y1=\"60\" x2=\"140\" y2=\"60\"/><line stroke=\"green\" stroke-width=\"2\" x1=\"120\" y1=\"60\" x2=\"120\" y2=\"80\"/><line stroke=\"green\" stroke-width=\"2\" x1=\"100\" y1=\"40\" x2=\"120\" y2=\"40\"/><line stroke=\"red\" stroke-width=\"2\" x1=\"120\" y1=\"40\" x2=\"120\" y2=\"60\"/><line stroke=\"green\" stroke-width=\"2\" x1=\"100\" y1=\"60\" x2=\"120\" y2=\"60\"/><line stroke=\"red\" stroke-width=\"2\" x1=\"100\" y1=\"40\" x2=\"100\" y2=\"60\"/><text dominant-baseline=\"middle\" text-anchor=\"middle\" font-size=\"13.333333333333334\" fill=\"black\" x=\"110.0\" y=\"50.0\">5</text><line stroke=\"green\" stroke-width=\"2\" x1=\"120\" y1=\"40\" x2=\"140\" y2=\"40\"/><line stroke=\"green\" stroke-width=\"2\" x1=\"140\" y1=\"40\" x2=\"140\" y2=\"60\"/><line stroke=\"beige\" stroke-width=\"2\" x1=\"120\" y1=\"60\" x2=\"140\" y2=\"60\"/><line stroke=\"red\" stroke-width=\"2\" x1=\"120\" y1=\"40\" x2=\"120\" y2=\"60\"/><text dominant-baseline=\"middle\" text-anchor=\"middle\" font-size=\"13.333333333333334\" fill=\"black\" x=\"130.0\" y=\"50.0\">4</text><line stroke=\"beige\" stroke-width=\"2\" x1=\"100\" y1=\"80\" x2=\"120\" y2=\"80\"/><line stroke=\"green\" stroke-width=\"2\" x1=\"100\" y1=\"80\" x2=\"100\" y2=\"100\"/><line stroke=\"green\" stroke-width=\"2\" x1=\"80\" y1=\"60\" x2=\"100\" y2=\"60\"/><line stroke=\"red\" stroke-width=\"2\" x1=\"100\" y1=\"60\" x2=\"100\" y2=\"80\"/><line stroke=\"green\" stroke-width=\"2\" x1=\"80\" y1=\"80\" x2=\"100\" y2=\"80\"/><line stroke=\"red\" stroke-width=\"2\" x1=\"80\" y1=\"60\" x2=\"80\" y2=\"80\"/><text dominant-baseline=\"middle\" text-anchor=\"middle\" font-size=\"13.333333333333334\" fill=\"black\" x=\"90.0\" y=\"70.0\">5</text><line stroke=\"green\" stroke-width=\"2\" x1=\"100\" y1=\"60\" x2=\"120\" y2=\"60\"/><line stroke=\"green\" stroke-width=\"2\" x1=\"120\" y1=\"60\" x2=\"120\" y2=\"80\"/><line stroke=\"beige\" stroke-width=\"2\" x1=\"100\" y1=\"80\" x2=\"120\" y2=\"80\"/><line stroke=\"red\" stroke-width=\"2\" x1=\"100\" y1=\"60\" x2=\"100\" y2=\"80\"/><text dominant-baseline=\"middle\" text-anchor=\"middle\" font-size=\"13.333333333333334\" fill=\"black\" x=\"110.0\" y=\"70.0\">4</text><line stroke=\"beige\" stroke-width=\"2\" x1=\"80\" y1=\"100\" x2=\"100\" y2=\"100\"/><line stroke=\"green\" stroke-width=\"2\" x1=\"80\" y1=\"100\" x2=\"80\" y2=\"120\"/><line stroke=\"green\" stroke-width=\"2\" x1=\"60\" y1=\"80\" x2=\"80\" y2=\"80\"/><line stroke=\"red\" stroke-width=\"2\" x1=\"80\" y1=\"80\" x2=\"80\" y2=\"100\"/><line stroke=\"green\" stroke-width=\"2\" x1=\"60\" y1=\"100\" x2=\"80\" y2=\"100\"/><line stroke=\"red\" stroke-width=\"2\" x1=\"60\" y1=\"80\" x2=\"60\" y2=\"100\"/><text dominant-baseline=\"middle\" text-anchor=\"middle\" font-size=\"13.333333333333334\" fill=\"black\" x=\"70.0\" y=\"90.0\">5</text><line stroke=\"green\" stroke-width=\"2\" x1=\"80\" y1=\"80\" x2=\"100\" y2=\"80\"/><line stroke=\"green\" stroke-width=\"2\" x1=\"100\" y1=\"80\" x2=\"100\" y2=\"100\"/><line stroke=\"beige\" stroke-width=\"2\" x1=\"80\" y1=\"100\" x2=\"100\" y2=\"100\"/><line stroke=\"red\" stroke-width=\"2\" x1=\"80\" y1=\"80\" x2=\"80\" y2=\"100\"/><text dominant-baseline=\"middle\" text-anchor=\"middle\" font-size=\"13.333333333333334\" fill=\"black\" x=\"90.0\" y=\"90.0\">4</text><line stroke=\"beige\" stroke-width=\"2\" x1=\"60\" y1=\"120\" x2=\"80\" y2=\"120\"/><line stroke=\"green\" stroke-width=\"2\" x1=\"60\" y1=\"120\" x2=\"60\" y2=\"140\"/><line stroke=\"green\" stroke-width=\"2\" x1=\"40\" y1=\"100\" x2=\"60\" y2=\"100\"/><line stroke=\"red\" stroke-width=\"2\" x1=\"60\" y1=\"100\" x2=\"60\" y2=\"120\"/><line stroke=\"green\" stroke-width=\"2\" x1=\"40\" y1=\"120\" x2=\"60\" y2=\"120\"/><line stroke=\"red\" stroke-width=\"2\" x1=\"40\" y1=\"100\" x2=\"40\" y2=\"120\"/><text dominant-baseline=\"middle\" text-anchor=\"middle\" font-size=\"13.333333333333334\" fill=\"black\" x=\"50.0\" y=\"110.0\">5</text><line stroke=\"green\" stroke-width=\"2\" x1=\"60\" y1=\"100\" x2=\"80\" y2=\"100\"/><line stroke=\"green\" stroke-width=\"2\" x1=\"80\" y1=\"100\" x2=\"80\" y2=\"120\"/><line stroke=\"beige\" stroke-width=\"2\" x1=\"60\" y1=\"120\" x2=\"80\" y2=\"120\"/><line stroke=\"red\" stroke-width=\"2\" x1=\"60\" y1=\"100\" x2=\"60\" y2=\"120\"/><text dominant-baseline=\"middle\" text-anchor=\"middle\" font-size=\"13.333333333333334\" fill=\"black\" x=\"70.0\" y=\"110.0\">4</text><line stroke=\"beige\" stroke-width=\"2\" x1=\"40\" y1=\"140\" x2=\"60\" y2=\"140\"/><line stroke=\"beige\" stroke-width=\"2\" x1=\"20\" y1=\"120\" x2=\"40\" y2=\"120\"/><line stroke=\"red\" stroke-width=\"2\" x1=\"40\" y1=\"120\" x2=\"40\" y2=\"140\"/><line stroke=\"beige\" stroke-width=\"2\" x1=\"20\" y1=\"140\" x2=\"40\" y2=\"140\"/><line stroke=\"green\" stroke-width=\"2\" x1=\"20\" y1=\"120\" x2=\"20\" y2=\"140\"/><text dominant-baseline=\"middle\" text-anchor=\"middle\" font-size=\"13.333333333333334\" fill=\"black\" x=\"30.0\" y=\"130.0\">2</text><line stroke=\"green\" stroke-width=\"2\" x1=\"40\" y1=\"120\" x2=\"60\" y2=\"120\"/><line stroke=\"green\" stroke-width=\"2\" x1=\"60\" y1=\"120\" x2=\"60\" y2=\"140\"/><line stroke=\"beige\" stroke-width=\"2\" x1=\"40\" y1=\"140\" x2=\"60\" y2=\"140\"/><line stroke=\"red\" stroke-width=\"2\" x1=\"40\" y1=\"120\" x2=\"40\" y2=\"140\"/><text dominant-baseline=\"middle\" text-anchor=\"middle\" font-size=\"13.333333333333334\" fill=\"black\" x=\"50.0\" y=\"130.0\">4</text><line stroke=\"beige\" stroke-width=\"2\" x1=\"20\" y1=\"140\" x2=\"40\" y2=\"140\"/><line stroke=\"beige\" stroke-width=\"2\" x1=\"20\" y1=\"20\" x2=\"40\" y2=\"20\"/><line stroke=\"beige\" stroke-width=\"2\" x1=\"20\" y1=\"20\" x2=\"40\" y2=\"20\"/><line stroke=\"beige\" stroke-width=\"2\" x1=\"40\" y1=\"20\" x2=\"40\" y2=\"40\"/><line stroke=\"beige\" stroke-width=\"2\" x1=\"20\" y1=\"40\" x2=\"40\" y2=\"40\"/><line stroke=\"beige\" stroke-width=\"2\" x1=\"20\" y1=\"20\" x2=\"20\" y2=\"40\"/><text dominant-baseline=\"middle\" text-anchor=\"middle\" font-size=\"13.333333333333334\" fill=\"black\" x=\"30.0\" y=\"30.0\">0</text><line stroke=\"beige\" stroke-width=\"2\" x1=\"20\" y1=\"40\" x2=\"40\" y2=\"40\"/><line stroke=\"red\" stroke-width=\"2\" x1=\"40\" y1=\"40\" x2=\"40\" y2=\"60\"/><line stroke=\"beige\" stroke-width=\"2\" x1=\"20\" y1=\"60\" x2=\"40\" y2=\"60\"/><line stroke=\"green\" stroke-width=\"2\" x1=\"20\" y1=\"40\" x2=\"20\" y2=\"60\"/><text dominant-baseline=\"middle\" text-anchor=\"middle\" font-size=\"13.333333333333334\" fill=\"black\" x=\"30.0\" y=\"50.0\">2</text><line stroke=\"beige\" stroke-width=\"2\" x1=\"20\" y1=\"60\" x2=\"40\" y2=\"60\"/><line stroke=\"red\" stroke-width=\"2\" x1=\"40\" y1=\"60\" x2=\"40\" y2=\"80\"/><line stroke=\"beige\" stroke-width=\"2\" x1=\"20\" y1=\"80\" x2=\"40\" y2=\"80\"/><line stroke=\"green\" stroke-width=\"2\" x1=\"20\" y1=\"60\" x2=\"20\" y2=\"80\"/><text dominant-baseline=\"middle\" text-anchor=\"middle\" font-size=\"13.333333333333334\" fill=\"black\" x=\"30.0\" y=\"70.0\">2</text><line stroke=\"beige\" stroke-width=\"2\" x1=\"20\" y1=\"80\" x2=\"40\" y2=\"80\"/><line stroke=\"red\" stroke-width=\"2\" x1=\"40\" y1=\"80\" x2=\"40\" y2=\"100\"/><line stroke=\"beige\" stroke-width=\"2\" x1=\"20\" y1=\"100\" x2=\"40\" y2=\"100\"/><line stroke=\"green\" stroke-width=\"2\" x1=\"20\" y1=\"80\" x2=\"20\" y2=\"100\"/><text dominant-baseline=\"middle\" text-anchor=\"middle\" font-size=\"13.333333333333334\" fill=\"black\" x=\"30.0\" y=\"90.0\">2</text><line stroke=\"beige\" stroke-width=\"2\" x1=\"20\" y1=\"100\" x2=\"40\" y2=\"100\"/><line stroke=\"red\" stroke-width=\"2\" x1=\"40\" y1=\"100\" x2=\"40\" y2=\"120\"/><line stroke=\"beige\" stroke-width=\"2\" x1=\"20\" y1=\"120\" x2=\"40\" y2=\"120\"/><line stroke=\"green\" stroke-width=\"2\" x1=\"20\" y1=\"100\" x2=\"20\" y2=\"120\"/><text dominant-baseline=\"middle\" text-anchor=\"middle\" font-size=\"13.333333333333334\" fill=\"black\" x=\"30.0\" y=\"110.0\">2</text><line stroke=\"green\" stroke-width=\"2\" x1=\"20\" y1=\"120\" x2=\"20\" y2=\"140\"/><line stroke=\"green\" stroke-width=\"2\" x1=\"40\" y1=\"80\" x2=\"60\" y2=\"80\"/><line stroke=\"red\" stroke-width=\"2\" x1=\"60\" y1=\"80\" x2=\"60\" y2=\"100\"/><line stroke=\"green\" stroke-width=\"2\" x1=\"40\" y1=\"100\" x2=\"60\" y2=\"100\"/><line stroke=\"red\" stroke-width=\"2\" x1=\"40\" y1=\"80\" x2=\"40\" y2=\"100\"/><text dominant-baseline=\"middle\" text-anchor=\"middle\" font-size=\"13.333333333333334\" fill=\"black\" x=\"50.0\" y=\"90.0\">5</text><line stroke=\"green\" stroke-width=\"2\" x1=\"20\" y1=\"100\" x2=\"20\" y2=\"120\"/><line stroke=\"green\" stroke-width=\"2\" x1=\"60\" y1=\"60\" x2=\"80\" y2=\"60\"/><line stroke=\"red\" stroke-width=\"2\" x1=\"80\" y1=\"60\" x2=\"80\" y2=\"80\"/><line stroke=\"green\" stroke-width=\"2\" x1=\"60\" y1=\"80\" x2=\"80\" y2=\"80\"/><line stroke=\"red\" stroke-width=\"2\" x1=\"60\" y1=\"60\" x2=\"60\" y2=\"80\"/><text dominant-baseline=\"middle\" text-anchor=\"middle\" font-size=\"13.333333333333334\" fill=\"black\" x=\"70.0\" y=\"70.0\">5</text><line stroke=\"green\" stroke-width=\"2\" x1=\"40\" y1=\"60\" x2=\"60\" y2=\"60\"/><line stroke=\"red\" stroke-width=\"2\" x1=\"60\" y1=\"60\" x2=\"60\" y2=\"80\"/><line stroke=\"green\" stroke-width=\"2\" x1=\"40\" y1=\"80\" x2=\"60\" y2=\"80\"/><line stroke=\"red\" stroke-width=\"2\" x1=\"40\" y1=\"60\" x2=\"40\" y2=\"80\"/><text dominant-baseline=\"middle\" text-anchor=\"middle\" font-size=\"13.333333333333334\" fill=\"black\" x=\"50.0\" y=\"70.0\">5</text><line stroke=\"green\" stroke-width=\"2\" x1=\"20\" y1=\"80\" x2=\"20\" y2=\"100\"/><line stroke=\"green\" stroke-width=\"2\" x1=\"80\" y1=\"40\" x2=\"100\" y2=\"40\"/><line stroke=\"red\" stroke-width=\"2\" x1=\"100\" y1=\"40\" x2=\"100\" y2=\"60\"/><line stroke=\"green\" stroke-width=\"2\" x1=\"80\" y1=\"60\" x2=\"100\" y2=\"60\"/><line stroke=\"red\" stroke-width=\"2\" x1=\"80\" y1=\"40\" x2=\"80\" y2=\"60\"/><text dominant-baseline=\"middle\" text-anchor=\"middle\" font-size=\"13.333333333333334\" fill=\"black\" x=\"90.0\" y=\"50.0\">5</text><line stroke=\"green\" stroke-width=\"2\" x1=\"60\" y1=\"40\" x2=\"80\" y2=\"40\"/><line stroke=\"red\" stroke-width=\"2\" x1=\"80\" y1=\"40\" x2=\"80\" y2=\"60\"/><line stroke=\"green\" stroke-width=\"2\" x1=\"60\" y1=\"60\" x2=\"80\" y2=\"60\"/><line stroke=\"red\" stroke-width=\"2\" x1=\"60\" y1=\"40\" x2=\"60\" y2=\"60\"/><text dominant-baseline=\"middle\" text-anchor=\"middle\" font-size=\"13.333333333333334\" fill=\"black\" x=\"70.0\" y=\"50.0\">5</text><line stroke=\"green\" stroke-width=\"2\" x1=\"40\" y1=\"40\" x2=\"60\" y2=\"40\"/><line stroke=\"red\" stroke-width=\"2\" x1=\"60\" y1=\"40\" x2=\"60\" y2=\"60\"/><line stroke=\"green\" stroke-width=\"2\" x1=\"40\" y1=\"60\" x2=\"60\" y2=\"60\"/><line stroke=\"red\" stroke-width=\"2\" x1=\"40\" y1=\"40\" x2=\"40\" y2=\"60\"/><text dominant-baseline=\"middle\" text-anchor=\"middle\" font-size=\"13.333333333333334\" fill=\"black\" x=\"50.0\" y=\"50.0\">5</text><line stroke=\"green\" stroke-width=\"2\" x1=\"20\" y1=\"60\" x2=\"20\" y2=\"80\"/><line stroke=\"green\" stroke-width=\"2\" x1=\"100\" y1=\"20\" x2=\"120\" y2=\"20\"/><line stroke=\"beige\" stroke-width=\"2\" x1=\"120\" y1=\"20\" x2=\"120\" y2=\"40\"/><line stroke=\"green\" stroke-width=\"2\" x1=\"100\" y1=\"40\" x2=\"120\" y2=\"40\"/><line stroke=\"green\" stroke-width=\"2\" x1=\"100\" y1=\"20\" x2=\"100\" y2=\"40\"/><text dominant-baseline=\"middle\" text-anchor=\"middle\" font-size=\"13.333333333333334\" fill=\"black\" x=\"110.0\" y=\"30.0\">3</text><line stroke=\"beige\" stroke-width=\"2\" x1=\"80\" y1=\"20\" x2=\"100\" y2=\"20\"/><line stroke=\"green\" stroke-width=\"2\" x1=\"100\" y1=\"20\" x2=\"100\" y2=\"40\"/><line stroke=\"green\" stroke-width=\"2\" x1=\"80\" y1=\"40\" x2=\"100\" y2=\"40\"/><line stroke=\"beige\" stroke-width=\"2\" x1=\"80\" y1=\"20\" x2=\"80\" y2=\"40\"/><text dominant-baseline=\"middle\" text-anchor=\"middle\" font-size=\"13.333333333333334\" fill=\"black\" x=\"90.0\" y=\"30.0\">1</text><line stroke=\"green\" stroke-width=\"2\" x1=\"60\" y1=\"20\" x2=\"80\" y2=\"20\"/><line stroke=\"beige\" stroke-width=\"2\" x1=\"80\" y1=\"20\" x2=\"80\" y2=\"40\"/><line stroke=\"green\" stroke-width=\"2\" x1=\"60\" y1=\"40\" x2=\"80\" y2=\"40\"/><line stroke=\"green\" stroke-width=\"2\" x1=\"60\" y1=\"20\" x2=\"60\" y2=\"40\"/><text dominant-baseline=\"middle\" text-anchor=\"middle\" font-size=\"13.333333333333334\" fill=\"black\" x=\"70.0\" y=\"30.0\">3</text><line stroke=\"beige\" stroke-width=\"2\" x1=\"40\" y1=\"20\" x2=\"60\" y2=\"20\"/><line stroke=\"green\" stroke-width=\"2\" x1=\"60\" y1=\"20\" x2=\"60\" y2=\"40\"/><line stroke=\"green\" stroke-width=\"2\" x1=\"40\" y1=\"40\" x2=\"60\" y2=\"40\"/><line stroke=\"beige\" stroke-width=\"2\" x1=\"40\" y1=\"20\" x2=\"40\" y2=\"40\"/><text dominant-baseline=\"middle\" text-anchor=\"middle\" font-size=\"13.333333333333334\" fill=\"black\" x=\"50.0\" y=\"30.0\">1</text><line stroke=\"green\" stroke-width=\"2\" x1=\"20\" y1=\"40\" x2=\"20\" y2=\"60\"/><line stroke=\"beige\" stroke-width=\"2\" x1=\"140\" y1=\"20\" x2=\"160\" y2=\"20\"/><line stroke=\"beige\" stroke-width=\"2\" x1=\"120\" y1=\"20\" x2=\"140\" y2=\"20\"/><line stroke=\"green\" stroke-width=\"2\" x1=\"100\" y1=\"20\" x2=\"120\" y2=\"20\"/><line stroke=\"beige\" stroke-width=\"2\" x1=\"80\" y1=\"20\" x2=\"100\" y2=\"20\"/><line stroke=\"green\" stroke-width=\"2\" x1=\"60\" y1=\"20\" x2=\"80\" y2=\"20\"/><line stroke=\"beige\" stroke-width=\"2\" x1=\"40\" y1=\"20\" x2=\"60\" y2=\"20\"/><line stroke=\"beige\" stroke-width=\"2\" x1=\"20\" y1=\"20\" x2=\"20\" y2=\"40\"/><circle stroke=\"grey\" stroke-width=\"0\" cx=\"-20\" cy=\"160\" r=\"1\" fill=\"black\"/><circle stroke=\"grey\" stroke-width=\"0\" cx=\"-20\" cy=\"140\" r=\"1\" fill=\"black\"/><circle stroke=\"grey\" stroke-width=\"0\" cx=\"-20\" cy=\"120\" r=\"1\" fill=\"black\"/><circle stroke=\"grey\" stroke-width=\"0\" cx=\"-20\" cy=\"100\" r=\"1\" fill=\"black\"/><circle stroke=\"grey\" stroke-width=\"0\" cx=\"-20\" cy=\"80\" r=\"1\" fill=\"black\"/><circle stroke=\"grey\" stroke-width=\"0\" cx=\"-20\" cy=\"60\" r=\"1\" fill=\"black\"/><circle stroke=\"grey\" stroke-width=\"0\" cx=\"-20\" cy=\"40\" r=\"1\" fill=\"black\"/><circle stroke=\"grey\" stroke-width=\"0\" cx=\"-20\" cy=\"20\" r=\"1\" fill=\"black\"/><circle stroke=\"grey\" stroke-width=\"0\" cx=\"-20\" cy=\"0\" r=\"1\" fill=\"black\"/><circle stroke=\"grey\" stroke-width=\"0\" cx=\"0\" cy=\"160\" r=\"1\" fill=\"black\"/><circle stroke=\"grey\" stroke-width=\"0\" cx=\"0\" cy=\"140\" r=\"1\" fill=\"black\"/><circle stroke=\"grey\" stroke-width=\"0\" cx=\"0\" cy=\"120\" r=\"1\" fill=\"black\"/><circle stroke=\"grey\" stroke-width=\"0\" cx=\"0\" cy=\"100\" r=\"1\" fill=\"black\"/><circle stroke=\"grey\" stroke-width=\"0\" cx=\"0\" cy=\"80\" r=\"1\" fill=\"black\"/><circle stroke=\"grey\" stroke-width=\"0\" cx=\"0\" cy=\"60\" r=\"1\" fill=\"black\"/><circle stroke=\"grey\" stroke-width=\"0\" cx=\"0\" cy=\"40\" r=\"1\" fill=\"black\"/><circle stroke=\"grey\" stroke-width=\"0\" cx=\"0\" cy=\"20\" r=\"1\" fill=\"black\"/><circle stroke=\"grey\" stroke-width=\"0\" cx=\"0\" cy=\"0\" r=\"1\" fill=\"black\"/><circle stroke=\"grey\" stroke-width=\"0\" cx=\"20\" cy=\"160\" r=\"1\" fill=\"black\"/><circle stroke=\"grey\" stroke-width=\"0\" cx=\"20\" cy=\"140\" r=\"1\" fill=\"black\"/><circle stroke=\"grey\" stroke-width=\"0\" cx=\"20\" cy=\"120\" r=\"1\" fill=\"black\"/><circle stroke=\"grey\" stroke-width=\"0\" cx=\"20\" cy=\"100\" r=\"1\" fill=\"black\"/><circle stroke=\"grey\" stroke-width=\"0\" cx=\"20\" cy=\"80\" r=\"1\" fill=\"black\"/><circle stroke=\"grey\" stroke-width=\"0\" cx=\"20\" cy=\"60\" r=\"1\" fill=\"black\"/><circle stroke=\"grey\" stroke-width=\"0\" cx=\"20\" cy=\"40\" r=\"1\" fill=\"black\"/><circle stroke=\"grey\" stroke-width=\"0\" cx=\"20\" cy=\"20\" r=\"1\" fill=\"black\"/><circle stroke=\"grey\" stroke-width=\"0\" cx=\"20\" cy=\"0\" r=\"1\" fill=\"black\"/><circle stroke=\"grey\" stroke-width=\"0\" cx=\"40\" cy=\"160\" r=\"1\" fill=\"black\"/><circle stroke=\"grey\" stroke-width=\"0\" cx=\"40\" cy=\"140\" r=\"1\" fill=\"black\"/><circle stroke=\"grey\" stroke-width=\"0\" cx=\"40\" cy=\"120\" r=\"1\" fill=\"black\"/><circle stroke=\"grey\" stroke-width=\"0\" cx=\"40\" cy=\"100\" r=\"1\" fill=\"black\"/><circle stroke=\"grey\" stroke-width=\"0\" cx=\"40\" cy=\"80\" r=\"1\" fill=\"black\"/><circle stroke=\"grey\" stroke-width=\"0\" cx=\"40\" cy=\"60\" r=\"1\" fill=\"black\"/><circle stroke=\"grey\" stroke-width=\"0\" cx=\"40\" cy=\"40\" r=\"1\" fill=\"black\"/><circle stroke=\"grey\" stroke-width=\"0\" cx=\"40\" cy=\"20\" r=\"1\" fill=\"black\"/><circle stroke=\"grey\" stroke-width=\"0\" cx=\"40\" cy=\"0\" r=\"1\" fill=\"black\"/><circle stroke=\"grey\" stroke-width=\"0\" cx=\"60\" cy=\"160\" r=\"1\" fill=\"black\"/><circle stroke=\"grey\" stroke-width=\"0\" cx=\"60\" cy=\"140\" r=\"1\" fill=\"black\"/><circle stroke=\"grey\" stroke-width=\"0\" cx=\"60\" cy=\"120\" r=\"1\" fill=\"black\"/><circle stroke=\"grey\" stroke-width=\"0\" cx=\"60\" cy=\"100\" r=\"1\" fill=\"black\"/><circle stroke=\"grey\" stroke-width=\"0\" cx=\"60\" cy=\"80\" r=\"1\" fill=\"black\"/><circle stroke=\"grey\" stroke-width=\"0\" cx=\"60\" cy=\"60\" r=\"1\" fill=\"black\"/><circle stroke=\"grey\" stroke-width=\"0\" cx=\"60\" cy=\"40\" r=\"1\" fill=\"black\"/><circle stroke=\"grey\" stroke-width=\"0\" cx=\"60\" cy=\"20\" r=\"1\" fill=\"black\"/><circle stroke=\"grey\" stroke-width=\"0\" cx=\"60\" cy=\"0\" r=\"1\" fill=\"black\"/><circle stroke=\"grey\" stroke-width=\"0\" cx=\"80\" cy=\"160\" r=\"1\" fill=\"black\"/><circle stroke=\"grey\" stroke-width=\"0\" cx=\"80\" cy=\"140\" r=\"1\" fill=\"black\"/><circle stroke=\"grey\" stroke-width=\"0\" cx=\"80\" cy=\"120\" r=\"1\" fill=\"black\"/><circle stroke=\"grey\" stroke-width=\"0\" cx=\"80\" cy=\"100\" r=\"1\" fill=\"black\"/><circle stroke=\"grey\" stroke-width=\"0\" cx=\"80\" cy=\"80\" r=\"1\" fill=\"black\"/><circle stroke=\"grey\" stroke-width=\"0\" cx=\"80\" cy=\"60\" r=\"1\" fill=\"black\"/><circle stroke=\"grey\" stroke-width=\"0\" cx=\"80\" cy=\"40\" r=\"1\" fill=\"black\"/><circle stroke=\"grey\" stroke-width=\"0\" cx=\"80\" cy=\"20\" r=\"1\" fill=\"black\"/><circle stroke=\"grey\" stroke-width=\"0\" cx=\"80\" cy=\"0\" r=\"1\" fill=\"black\"/><circle stroke=\"grey\" stroke-width=\"0\" cx=\"100\" cy=\"160\" r=\"1\" fill=\"black\"/><circle stroke=\"grey\" stroke-width=\"0\" cx=\"100\" cy=\"140\" r=\"1\" fill=\"black\"/><circle stroke=\"grey\" stroke-width=\"0\" cx=\"100\" cy=\"120\" r=\"1\" fill=\"black\"/><circle stroke=\"grey\" stroke-width=\"0\" cx=\"100\" cy=\"100\" r=\"1\" fill=\"black\"/><circle stroke=\"grey\" stroke-width=\"0\" cx=\"100\" cy=\"80\" r=\"1\" fill=\"black\"/><circle stroke=\"grey\" stroke-width=\"0\" cx=\"100\" cy=\"60\" r=\"1\" fill=\"black\"/><circle stroke=\"grey\" stroke-width=\"0\" cx=\"100\" cy=\"40\" r=\"1\" fill=\"black\"/><circle stroke=\"grey\" stroke-width=\"0\" cx=\"100\" cy=\"20\" r=\"1\" fill=\"black\"/><circle stroke=\"grey\" stroke-width=\"0\" cx=\"100\" cy=\"0\" r=\"1\" fill=\"black\"/><circle stroke=\"grey\" stroke-width=\"0\" cx=\"120\" cy=\"160\" r=\"1\" fill=\"black\"/><circle stroke=\"grey\" stroke-width=\"0\" cx=\"120\" cy=\"140\" r=\"1\" fill=\"black\"/><circle stroke=\"grey\" stroke-width=\"0\" cx=\"120\" cy=\"120\" r=\"1\" fill=\"black\"/><circle stroke=\"grey\" stroke-width=\"0\" cx=\"120\" cy=\"100\" r=\"1\" fill=\"black\"/><circle stroke=\"grey\" stroke-width=\"0\" cx=\"120\" cy=\"80\" r=\"1\" fill=\"black\"/><circle stroke=\"grey\" stroke-width=\"0\" cx=\"120\" cy=\"60\" r=\"1\" fill=\"black\"/><circle stroke=\"grey\" stroke-width=\"0\" cx=\"120\" cy=\"40\" r=\"1\" fill=\"black\"/><circle stroke=\"grey\" stroke-width=\"0\" cx=\"120\" cy=\"20\" r=\"1\" fill=\"black\"/><circle stroke=\"grey\" stroke-width=\"0\" cx=\"120\" cy=\"0\" r=\"1\" fill=\"black\"/><circle stroke=\"grey\" stroke-width=\"0\" cx=\"140\" cy=\"160\" r=\"1\" fill=\"black\"/><circle stroke=\"grey\" stroke-width=\"0\" cx=\"140\" cy=\"140\" r=\"1\" fill=\"black\"/><circle stroke=\"grey\" stroke-width=\"0\" cx=\"140\" cy=\"120\" r=\"1\" fill=\"black\"/><circle stroke=\"grey\" stroke-width=\"0\" cx=\"140\" cy=\"100\" r=\"1\" fill=\"black\"/><circle stroke=\"grey\" stroke-width=\"0\" cx=\"140\" cy=\"80\" r=\"1\" fill=\"black\"/><circle stroke=\"grey\" stroke-width=\"0\" cx=\"140\" cy=\"60\" r=\"1\" fill=\"black\"/><circle stroke=\"grey\" stroke-width=\"0\" cx=\"140\" cy=\"40\" r=\"1\" fill=\"black\"/><circle stroke=\"grey\" stroke-width=\"0\" cx=\"140\" cy=\"20\" r=\"1\" fill=\"black\"/><circle stroke=\"grey\" stroke-width=\"0\" cx=\"140\" cy=\"0\" r=\"1\" fill=\"black\"/><circle stroke=\"grey\" stroke-width=\"0\" cx=\"160\" cy=\"160\" r=\"1\" fill=\"black\"/><circle stroke=\"grey\" stroke-width=\"0\" cx=\"160\" cy=\"140\" r=\"1\" fill=\"black\"/><circle stroke=\"grey\" stroke-width=\"0\" cx=\"160\" cy=\"120\" r=\"1\" fill=\"black\"/><circle stroke=\"grey\" stroke-width=\"0\" cx=\"160\" cy=\"100\" r=\"1\" fill=\"black\"/><circle stroke=\"grey\" stroke-width=\"0\" cx=\"160\" cy=\"80\" r=\"1\" fill=\"black\"/><circle stroke=\"grey\" stroke-width=\"0\" cx=\"160\" cy=\"60\" r=\"1\" fill=\"black\"/><circle stroke=\"grey\" stroke-width=\"0\" cx=\"160\" cy=\"40\" r=\"1\" fill=\"black\"/><circle stroke=\"grey\" stroke-width=\"0\" cx=\"160\" cy=\"20\" r=\"1\" fill=\"black\"/><circle stroke=\"grey\" stroke-width=\"0\" cx=\"160\" cy=\"0\" r=\"1\" fill=\"black\"/><circle stroke=\"grey\" stroke-width=\"0\" cx=\"180\" cy=\"160\" r=\"1\" fill=\"black\"/><circle stroke=\"grey\" stroke-width=\"0\" cx=\"180\" cy=\"140\" r=\"1\" fill=\"black\"/><circle stroke=\"grey\" stroke-width=\"0\" cx=\"180\" cy=\"120\" r=\"1\" fill=\"black\"/><circle stroke=\"grey\" stroke-width=\"0\" cx=\"180\" cy=\"100\" r=\"1\" fill=\"black\"/><circle stroke=\"grey\" stroke-width=\"0\" cx=\"180\" cy=\"80\" r=\"1\" fill=\"black\"/><circle stroke=\"grey\" stroke-width=\"0\" cx=\"180\" cy=\"60\" r=\"1\" fill=\"black\"/><circle stroke=\"grey\" stroke-width=\"0\" cx=\"180\" cy=\"40\" r=\"1\" fill=\"black\"/><circle stroke=\"grey\" stroke-width=\"0\" cx=\"180\" cy=\"20\" r=\"1\" fill=\"black\"/><circle stroke=\"grey\" stroke-width=\"0\" cx=\"180\" cy=\"0\" r=\"1\" fill=\"black\"/><circle stroke=\"grey\" stroke-width=\"0\" cx=\"200\" cy=\"160\" r=\"1\" fill=\"black\"/><circle stroke=\"grey\" stroke-width=\"0\" cx=\"200\" cy=\"140\" r=\"1\" fill=\"black\"/><circle stroke=\"grey\" stroke-width=\"0\" cx=\"200\" cy=\"120\" r=\"1\" fill=\"black\"/><circle stroke=\"grey\" stroke-width=\"0\" cx=\"200\" cy=\"100\" r=\"1\" fill=\"black\"/><circle stroke=\"grey\" stroke-width=\"0\" cx=\"200\" cy=\"80\" r=\"1\" fill=\"black\"/><circle stroke=\"grey\" stroke-width=\"0\" cx=\"200\" cy=\"60\" r=\"1\" fill=\"black\"/><circle stroke=\"grey\" stroke-width=\"0\" cx=\"200\" cy=\"40\" r=\"1\" fill=\"black\"/><circle stroke=\"grey\" stroke-width=\"0\" cx=\"200\" cy=\"20\" r=\"1\" fill=\"black\"/><circle stroke=\"grey\" stroke-width=\"0\" cx=\"200\" cy=\"0\" r=\"1\" fill=\"black\"/><circle stroke=\"grey\" stroke-width=\"0\" cx=\"220\" cy=\"160\" r=\"1\" fill=\"black\"/><circle stroke=\"grey\" stroke-width=\"0\" cx=\"220\" cy=\"140\" r=\"1\" fill=\"black\"/><circle stroke=\"grey\" stroke-width=\"0\" cx=\"220\" cy=\"120\" r=\"1\" fill=\"black\"/><circle stroke=\"grey\" stroke-width=\"0\" cx=\"220\" cy=\"100\" r=\"1\" fill=\"black\"/><circle stroke=\"grey\" stroke-width=\"0\" cx=\"220\" cy=\"80\" r=\"1\" fill=\"black\"/><circle stroke=\"grey\" stroke-width=\"0\" cx=\"220\" cy=\"60\" r=\"1\" fill=\"black\"/><circle stroke=\"grey\" stroke-width=\"0\" cx=\"220\" cy=\"40\" r=\"1\" fill=\"black\"/><circle stroke=\"grey\" stroke-width=\"0\" cx=\"220\" cy=\"20\" r=\"1\" fill=\"black\"/><circle stroke=\"grey\" stroke-width=\"0\" cx=\"220\" cy=\"0\" r=\"1\" fill=\"black\"/></svg>"
      ],
      "text/plain": [
       "<IPython.core.display.SVG object>"
      ]
     },
     "metadata": {},
     "output_type": "display_data"
    }
   ],
   "source": [
    "canvas = draw_world_svgpy(world.world)\n",
    "show_svg(canvas)"
   ]
  },
  {
   "cell_type": "code",
   "execution_count": null,
   "id": "a00af34f-ecd9-43c2-a46f-5c19453d118f",
   "metadata": {},
   "outputs": [],
   "source": []
  }
 ],
 "metadata": {
  "kernelspec": {
   "display_name": "Python 3 (ipykernel)",
   "language": "python",
   "name": "python3"
  },
  "language_info": {
   "codemirror_mode": {
    "name": "ipython",
    "version": 3
   },
   "file_extension": ".py",
   "mimetype": "text/x-python",
   "name": "python",
   "nbconvert_exporter": "python",
   "pygments_lexer": "ipython3",
   "version": "3.13.3"
  }
 },
 "nbformat": 4,
 "nbformat_minor": 5
}
