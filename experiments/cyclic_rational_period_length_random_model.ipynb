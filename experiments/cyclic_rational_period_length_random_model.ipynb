{
 "cells": [
  {
   "cell_type": "code",
   "execution_count": 1,
   "id": "46a9851e-83bd-47d7-b6f9-a00553c6d45c",
   "metadata": {},
   "outputs": [],
   "source": [
    "import sys, os\n",
    "sys.path.insert(0, os.path.abspath('../'))\n",
    "#from coreli import *\n",
    "import coreli\n",
    "import itertools \n",
    "from functools import reduce\n",
    "import matplotlib.pyplot as plt\n",
    "import numpy as np\n",
    "import random\n",
    "import math"
   ]
  },
  {
   "cell_type": "code",
   "execution_count": 4,
   "id": "3bd19ba3-cdeb-4e97-8683-d25b8ce5d842",
   "metadata": {},
   "outputs": [],
   "source": [
    "import sympy"
   ]
  },
  {
   "cell_type": "code",
   "execution_count": 2,
   "id": "f3edb52e-377c-4ccf-b588-d9d4f73e65a1",
   "metadata": {},
   "outputs": [
    {
     "data": {
      "text/latex": [
       "$\\displaystyle \\frac{5}{23}$"
      ],
      "text/plain": [
       "5/23"
      ]
     },
     "execution_count": 2,
     "metadata": {},
     "output_type": "execute_result"
    }
   ],
   "source": [
    "pv = coreli.ParityVector([1,1,0,0,0])\n",
    "pv.cyclic_rational()"
   ]
  },
  {
   "cell_type": "code",
   "execution_count": 7,
   "id": "e0a69678-abc2-4961-a71c-c3b9b47f0f0e",
   "metadata": {},
   "outputs": [
    {
     "data": {
      "text/plain": [
       "'(01100100001)* 1'"
      ]
     },
     "execution_count": 7,
     "metadata": {},
     "output_type": "execute_result"
    }
   ],
   "source": [
    "Z2 = coreli.Padic(2)\n",
    "Z2.from_rational(sympy.Rational(5,23)).rational_periodic_representation()"
   ]
  },
  {
   "cell_type": "code",
   "execution_count": 20,
   "id": "990924e4",
   "metadata": {},
   "outputs": [],
   "source": [
    "def expected_waiting_time(n):\n",
    "    total = 0\n",
    "    prob_no_repeat = 1.0\n",
    "    for k in range(n):\n",
    "        total += prob_no_repeat\n",
    "        prob_no_repeat *= (n - k - 1) / n\n",
    "    return total\n",
    "\n",
    "def expected_waiting_time_approx(n):\n",
    "    return math.sqrt(math.pi * n / 2)\n",
    "\n",
    "def expected_waiting_time_empirical(n, repeat=1000):\n",
    "    waiting_times = []\n",
    "    for _ in range(repeat):\n",
    "        draws = set({})\n",
    "        x = random.randint(1,n)\n",
    "        waiting_time = 0\n",
    "        while x not in draws:\n",
    "            draws.add(x)\n",
    "            x = random.randint(1,n)\n",
    "            waiting_time += 1\n",
    "        waiting_times.append(waiting_time)\n",
    "    return float(np.mean(waiting_times))\n"
   ]
  },
  {
   "cell_type": "code",
   "execution_count": 21,
   "id": "794fffa0",
   "metadata": {},
   "outputs": [
    {
     "data": {
      "text/plain": [
       "24.73809804173022"
      ]
     },
     "execution_count": 21,
     "metadata": {},
     "output_type": "execute_result"
    }
   ],
   "source": [
    "expected_waiting_time(400)"
   ]
  },
  {
   "cell_type": "code",
   "execution_count": 22,
   "id": "5c0a0e28",
   "metadata": {},
   "outputs": [
    {
     "data": {
      "text/plain": [
       "25.066282746310005"
      ]
     },
     "execution_count": 22,
     "metadata": {},
     "output_type": "execute_result"
    }
   ],
   "source": [
    "expected_waiting_time_approx(400)"
   ]
  },
  {
   "cell_type": "code",
   "execution_count": 23,
   "id": "5f106c8e",
   "metadata": {},
   "outputs": [
    {
     "data": {
      "text/plain": [
       "24.449"
      ]
     },
     "execution_count": 23,
     "metadata": {},
     "output_type": "execute_result"
    }
   ],
   "source": [
    "expected_waiting_time_empirical(400)"
   ]
  },
  {
   "cell_type": "code",
   "execution_count": 33,
   "id": "7a2b1987",
   "metadata": {},
   "outputs": [],
   "source": [
    "Z2 = Padic(2)\n",
    "Z3 = Padic(3)\n",
    "Z6 = Padic(6)"
   ]
  },
  {
   "cell_type": "code",
   "execution_count": null,
   "id": "439e2c59",
   "metadata": {},
   "outputs": [],
   "source": [
    "def metric(pv):\n",
    "    # e.g. [1,0,0,0,1] -> 19/23\n",
    "    cyclic_rational = ParityVector(pv).cyclic_rational()\n",
    "    Z6 = Padic(6)\n",
    "    # e.g. [1,0,0,0,1] -> 19/23 -> (41013220304)* 5\n",
    "    six_adic_expansion = Z6.from_rational(cyclic_rational).rational_periodic_representation()\n",
    "\n",
    "    # |period| + |preperiod|\n",
    "    expansion_len = len(six_adic_expansion)-4\n",
    "\n",
    "    # all the 1s of the pv correspond to 4 possible tile north-west angle and the 0s to 2 possible horizontal 0/1\n",
    "    max_len = reduce(lambda x, y: x * y, [4 if i == 1 else 2 for i in pv])\n",
    "\n",
    "    return expansion_len/max_len\n",
    "    \n"
   ]
  },
  {
   "cell_type": "code",
   "execution_count": 48,
   "id": "0e88e064",
   "metadata": {},
   "outputs": [],
   "source": [
    "def reality_vs_random(pv):\n",
    "    # e.g. [1,0,0,0,1] -> 19/23\n",
    "    cyclic_rational = ParityVector(pv).cyclic_rational()\n",
    "    Z6 = Padic(6)\n",
    "    # e.g. [1,0,0,0,1] -> 19/23 -> (41013220304)* 5\n",
    "    six_adic_expansion = Z6.from_rational(cyclic_rational).rational_periodic_representation()\n",
    "\n",
    "    # |period| + |preperiod|\n",
    "    expansion_len = len(six_adic_expansion)-4\n",
    "\n",
    "    # all the 1s of the pv correspond to 4 possible tile north-west angle and the 0s to 2 possible horizontal 0/1\n",
    "    space_size = reduce(lambda x, y: x * y, [4 if i == 1 else 2 for i in pv])\n",
    "\n",
    "    # For n big, the expected number of draws of n distrinct objects with replacement\n",
    "    # until you get the same twice is ~ sqrt(n * pi/2)\n",
    "    expected_random_len = expected_waiting_time_approx(space_size)\n",
    "\n",
    "    # print(\"\".join(map(str,pv)), expansion_len, expected_random_len)\n",
    "    return expansion_len/expected_random_len\n",
    "    \n"
   ]
  },
  {
   "cell_type": "code",
   "execution_count": 54,
   "id": "0484104d",
   "metadata": {},
   "outputs": [],
   "source": [
    "metrics_random = []\n",
    "for pv in itertools.product([0,1],repeat=14):\n",
    "    if pv.count(1) >= pv.count(0) and 2**len(pv) > 3**pv.count(1):\n",
    "        metrics_random.append(reality_vs_random(pv))"
   ]
  },
  {
   "cell_type": "code",
   "execution_count": 55,
   "id": "63bb9d85",
   "metadata": {},
   "outputs": [
    {
     "data": {
      "text/plain": [
       "np.float64(1.71635144768275)"
      ]
     },
     "execution_count": 55,
     "metadata": {},
     "output_type": "execute_result"
    }
   ],
   "source": [
    "np.mean(metrics_random)"
   ]
  },
  {
   "cell_type": "code",
   "execution_count": 56,
   "id": "42934320",
   "metadata": {},
   "outputs": [
    {
     "data": {
      "text/plain": [
       "[<matplotlib.lines.Line2D at 0x12a11efd0>]"
      ]
     },
     "execution_count": 56,
     "metadata": {},
     "output_type": "execute_result"
    },
    {
     "data": {
      "image/png": "[encoded data removed]",
      "text/plain": [
       "<Figure size 640x480 with 1 Axes>"
      ]
     },
     "metadata": {},
     "output_type": "display_data"
    }
   ],
   "source": [
    "plt.plot(metrics_random, 'o')"
   ]
  },
  {
   "cell_type": "code",
   "execution_count": null,
   "id": "a779a6cb",
   "metadata": {},
   "outputs": [],
   "source": []
  }
 ],
 "metadata": {
  "kernelspec": {
   "display_name": "Python 3 (ipykernel)",
   "language": "python",
   "name": "python3"
  },
  "language_info": {
   "codemirror_mode": {
    "name": "ipython",
    "version": 3
   },
   "file_extension": ".py",
   "mimetype": "text/x-python",
   "name": "python",
   "nbconvert_exporter": "python",
   "pygments_lexer": "ipython3",
   "version": "3.13.3"
  }
 },
 "nbformat": 4,
 "nbformat_minor": 5
}
