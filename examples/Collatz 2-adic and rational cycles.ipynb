{
 "cells": [
  {
   "cell_type": "code",
   "execution_count": 1,
   "metadata": {},
   "outputs": [],
   "source": [
    "import sys, os\n",
    "sys.path.insert(0, os.path.abspath('../'))\n",
    "from coreli import *"
   ]
  },
  {
   "cell_type": "markdown",
   "metadata": {},
   "source": [
    "# Read This First\n",
    "If you want to play with this notebook (as you are very encouraged to do), **please copy it** in the folder `examples_safe` and run it from there. That folder is not under version control hence you won't encounter annoying problems related to having modified the notebook when you pull future versions of **coreli**."
   ]
  },
  {
   "cell_type": "markdown",
   "metadata": {},
   "source": [
    "# What is this Notebook?\n",
    "\n",
    "This notebook illustrates the features of `coreli` which allow to run the Collatz process on 2-adic integers and the feature which can construct the cyclic rational number associated to a parity vector."
   ]
  },
  {
   "cell_type": "markdown",
   "metadata": {},
   "source": [
    "# Example\n",
    "## Collatz 2-adic\n",
    "The 2-adic representation of 1/3 is: $1(10)^\\infty$. Below we run the Collatz process on that 2-adic number, the function also returns the closest element to 0 in the cycle which is reached (it is conjectured that you always fall into a cycle).    \n",
    "\n",
    "1/3 reaches the cycle (2,1)."
   ]
  },
  {
   "cell_type": "code",
   "execution_count": 3,
   "metadata": {},
   "outputs": [
    {
     "data": {
      "text/plain": [
       "([1/3, 1, 2, 1], 1)"
      ]
     },
     "execution_count": 3,
     "metadata": {},
     "output_type": "execute_result"
    }
   ],
   "source": [
    "Collatz_rational_2_adic('1','10')"
   ]
  },
  {
   "cell_type": "markdown",
   "metadata": {},
   "source": [
    "The 2-adic representation of -2/3 is $01(01)^\\infty$.      \n",
    "The closest element to 0 in the cycle which is reached is 0."
   ]
  },
  {
   "cell_type": "code",
   "execution_count": 4,
   "metadata": {},
   "outputs": [
    {
     "data": {
      "text/plain": [
       "([-2/3, -1/3, 0, 0], 0)"
      ]
     },
     "execution_count": 4,
     "metadata": {},
     "output_type": "execute_result"
    }
   ],
   "source": [
    "Collatz_rational_2_adic('01','01')"
   ]
  },
  {
   "cell_type": "markdown",
   "metadata": {},
   "source": [
    "The 2-adic representation of -5/7 is $1(011)^\\infty$.           \n",
    "The closest element to 0 in the cycle which is reached is 5/7."
   ]
  },
  {
   "cell_type": "code",
   "execution_count": 5,
   "metadata": {},
   "outputs": [
    {
     "data": {
      "text/plain": [
       "([-5/7, -4/7, -2/7, -1/7, 2/7, 1/7, 5/7, 11/7, 20/7, 10/7, 5/7], 5/7)"
      ]
     },
     "execution_count": 5,
     "metadata": {},
     "output_type": "execute_result"
    }
   ],
   "source": [
    "Collatz_rational_2_adic('1','011')"
   ]
  },
  {
   "cell_type": "markdown",
   "metadata": {},
   "source": [
    "The 2-adic representation of -19 is $101101(1)^\\infty$.           \n",
    "The closest element to 0 in the cycle which is reached is -5."
   ]
  },
  {
   "cell_type": "code",
   "execution_count": 6,
   "metadata": {},
   "outputs": [
    {
     "data": {
      "text/plain": [
       "([-19, -28, -14, -7, -10, -5, -7], -5)"
      ]
     },
     "execution_count": 6,
     "metadata": {},
     "output_type": "execute_result"
    }
   ],
   "source": [
    "Collatz_rational_2_adic('101101','1')"
   ]
  },
  {
   "cell_type": "markdown",
   "metadata": {},
   "source": [
    "## Rational Cycles\n",
    "Given a parity vector, we can construct the 2-adic rational which cycles following this parity vector. The formula is (see Wirsching, $s$ is the representation of the parity vector as a *feasible vector* or in our language, its `CompactRep`):\n",
    "\n",
    "$$ q = \\frac{\\sum_{i=0}^{l(s)-1} 3^{l(s)-1-i}2^{i+s_0+\\dots+s_i}}{2^{||s||} - 3^{l(s)}} $$"
   ]
  },
  {
   "cell_type": "markdown",
   "metadata": {},
   "source": [
    "## Positive cycle\n",
    "Below, the only conjectured strictly positive cycle: 1,2 of parity vector (1,0)."
   ]
  },
  {
   "cell_type": "code",
   "execution_count": 7,
   "metadata": {},
   "outputs": [
    {
     "data": {
      "text/plain": [
       "1"
      ]
     },
     "execution_count": 7,
     "metadata": {},
     "output_type": "execute_result"
    }
   ],
   "source": [
    "rational_cycle_solution(Parvec([1,0]))"
   ]
  },
  {
   "cell_type": "markdown",
   "metadata": {},
   "source": [
    "## Negative cycles\n",
    "Below the only conjectured strictly negative cycles:\n",
    "\n",
    "- (-1) of parity vector (1),\n",
    "- (-5,  -7, -10) of parity vector (1,1,0)    \n",
    "- (-17, -25, -37, -55, -82, -41, -61, -91, -136, -68, -34) of parity vector (1,1,1,1,0,1,1,1,0,0,0)"
   ]
  },
  {
   "cell_type": "code",
   "execution_count": 8,
   "metadata": {},
   "outputs": [
    {
     "data": {
      "text/plain": [
       "-1"
      ]
     },
     "execution_count": 8,
     "metadata": {},
     "output_type": "execute_result"
    }
   ],
   "source": [
    "rational_cycle_solution(Parvec([1]))"
   ]
  },
  {
   "cell_type": "code",
   "execution_count": 9,
   "metadata": {},
   "outputs": [
    {
     "data": {
      "text/plain": [
       "-5"
      ]
     },
     "execution_count": 9,
     "metadata": {},
     "output_type": "execute_result"
    }
   ],
   "source": [
    "rational_cycle_solution(Parvec([1,1,0]))"
   ]
  },
  {
   "cell_type": "code",
   "execution_count": 10,
   "metadata": {},
   "outputs": [
    {
     "data": {
      "text/plain": [
       "-17"
      ]
     },
     "execution_count": 10,
     "metadata": {},
     "output_type": "execute_result"
    }
   ],
   "source": [
    "rational_cycle_solution(Parvec([1,1,1,1,0,1,1,1,0,0,0]))"
   ]
  },
  {
   "cell_type": "markdown",
   "metadata": {},
   "source": [
    "## 2-adic cycles\n",
    "Then it is conjecture that for any parity vector which is not a power of a rotation of one of the above, cycles are always in $\\mathbb{Q}-\\mathbb{Z}$. Some examples below."
   ]
  },
  {
   "cell_type": "code",
   "execution_count": 11,
   "metadata": {},
   "outputs": [
    {
     "data": {
      "text/plain": [
       "23/37"
      ]
     },
     "execution_count": 11,
     "metadata": {},
     "output_type": "execute_result"
    }
   ],
   "source": [
    "rational_cycle_solution(Parvec([1,1,0,1,0,0]))"
   ]
  },
  {
   "cell_type": "code",
   "execution_count": 12,
   "metadata": {},
   "outputs": [
    {
     "data": {
      "text/plain": [
       "4/29"
      ]
     },
     "execution_count": 12,
     "metadata": {},
     "output_type": "execute_result"
    }
   ],
   "source": [
    "rational_cycle_solution(Parvec([0,0,1,0,0]))"
   ]
  },
  {
   "cell_type": "code",
   "execution_count": 13,
   "metadata": {},
   "outputs": [
    {
     "data": {
      "text/plain": [
       "-85/49"
      ]
     },
     "execution_count": 13,
     "metadata": {},
     "output_type": "execute_result"
    }
   ],
   "source": [
    "rational_cycle_solution(Parvec([1,1,0,1,1]))"
   ]
  },
  {
   "cell_type": "code",
   "execution_count": 14,
   "metadata": {},
   "outputs": [
    {
     "data": {
      "text/plain": [
       "-179/17"
      ]
     },
     "execution_count": 14,
     "metadata": {},
     "output_type": "execute_result"
    }
   ],
   "source": [
    "rational_cycle_solution(Parvec([1,0,0,1,1,1]))"
   ]
  }
 ],
 "metadata": {
  "kernelspec": {
   "display_name": "Python 3",
   "language": "python",
   "name": "python3"
  },
  "language_info": {
   "codemirror_mode": {
    "name": "ipython",
    "version": 3
   },
   "file_extension": ".py",
   "mimetype": "text/x-python",
   "name": "python",
   "nbconvert_exporter": "python",
   "pygments_lexer": "ipython3",
   "version": "3.6.9"
  }
 },
 "nbformat": 4,
 "nbformat_minor": 4
}
