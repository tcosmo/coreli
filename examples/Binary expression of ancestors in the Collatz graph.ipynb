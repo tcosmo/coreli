{
 "cells": [
  {
   "cell_type": "code",
   "execution_count": 1,
   "metadata": {},
   "outputs": [],
   "source": [
    "import sys, os\n",
    "sys.path.insert(0, os.path.abspath('../'))\n",
    "from coreli import *"
   ]
  },
  {
   "cell_type": "markdown",
   "metadata": {},
   "source": [
    "# Read This First\n",
    "If you want to play with this notebook (as you are very encouraged to do), **please copy it** in the folder `examples_safe` and run it from there. That folder is not under version control hence you won't encounter annoying problems related to having modified the notebook when you pull future versions of **coreli**."
   ]
  },
  {
   "cell_type": "markdown",
   "metadata": {},
   "source": [
    "# What is this Notebook?\n",
    "\n",
    "This notebook illustrates how to get the regular expression describing the binary expansion of ancestors of $x$ at $T_1$-distance $k$ in the Collatz graph.    \n",
    "\n",
    "More info on the subject in [https://arxiv.org/pdf/1907.00775.pdf](https://arxiv.org/pdf/1907.00775.pdf) (unpublished)."
   ]
  },
  {
   "cell_type": "markdown",
   "metadata": {},
   "source": [
    "# Example\n",
    "\n",
    "This example runs you through the logic of generating regular expressions for representing ancestors in the Collatz process. \n",
    "\n",
    "- First we generate the regular expression representing ancestors at $T_1$-distance 3 of 14. \n",
    "- Then, as the regex is very raw and difficult to read so we show all branches of that regular expression (it is always a tree) more compactly.\n",
    "- Then, we exhibit the 3 first odd Collatz steps of 2 of the ancestors of $14$ at $T_1$-distance 3 that we sample from the regex.\n",
    "- Finally, we randomly sample the regular expression to witness the fact that each sample goes indeed to 14 by using 3 odd steps. \n",
    "\n",
    "## Raw Regular Expression"
   ]
  },
  {
   "cell_type": "code",
   "execution_count": 4,
   "metadata": {},
   "outputs": [
    {
     "name": "stdout",
     "output_type": "stream",
     "text": [
      "(100001001011110110)*(((10)(0)(000111)*(((0)(0)(01)*(0)(1)(0)*)|((000)(1)(10)*()(1)(0)*)))|((1000)(0)(100011)*(((10)(0)(01)*(0)(1)(0)*)|((1000)(1)(10)*()(1)(0)*)))|((10000100101111)(0)(110001)*(((110)(0)(01)*(0)(1)(0)*)|((11000)(1)(10)*()(1)(0)*)))|((1000010010)(1)(111000)*(((1110)(0)(01)*(0)(1)(0)*)|(()(1)(10)*()(1)(0)*)))|((10000100)(1)(011100)*(((01110)(0)(01)*(0)(1)(0)*)|((0)(1)(10)*()(1)(0)*)))|((1000010010111101)(1)(001110)*((()(0)(01)*(0)(1)(0)*)|((00)(1)(10)*()(1)(0)*))))\n"
     ]
    }
   ],
   "source": [
    "x, k = 14, 3\n",
    "regular_expression_tree = SpanPredRegularTree(x,k)\n",
    "print(regular_expression_tree)"
   ]
  },
  {
   "cell_type": "markdown",
   "metadata": {},
   "source": [
    "## Extracting Each Branch"
   ]
  },
  {
   "cell_type": "code",
   "execution_count": 6,
   "metadata": {},
   "outputs": [
    {
     "name": "stdout",
     "output_type": "stream",
     "text": [
      "(100001001011110110)*100(000111)*00(01)*01(0)*\n",
      "(100001001011110110)*10000(100011)*100(01)*01(0)*\n",
      "(100001001011110110)*100001001011110(110001)*1100(01)*01(0)*\n",
      "(100001001011110110)*10000100101(111000)*11100(01)*01(0)*\n",
      "(100001001011110110)*100001001(011100)*011100(01)*01(0)*\n",
      "(100001001011110110)*10000100101111011(001110)*0(01)*01(0)*\n",
      "\n",
      "(100001001011110110)*100(000111)*0001(10)*1(0)*\n",
      "(100001001011110110)*10000(100011)*10001(10)*1(0)*\n",
      "(100001001011110110)*100001001011110(110001)*110001(10)*1(0)*\n",
      "(100001001011110110)*10000100101(111000)*1(10)*1(0)*\n",
      "(100001001011110110)*100001001(011100)*01(10)*1(0)*\n",
      "(100001001011110110)*10000100101111011(001110)*001(10)*1(0)*\n",
      "\n"
     ]
    }
   ],
   "source": [
    "regular_expression_tree.pprint_branches()"
   ]
  },
  {
   "cell_type": "markdown",
   "metadata": {},
   "source": [
    "## Printing Binary Collatz Sequences"
   ]
  },
  {
   "cell_type": "code",
   "execution_count": 18,
   "metadata": {},
   "outputs": [
    {
     "name": "stdout",
     "output_type": "stream",
     "text": [
      "1110\n"
     ]
    }
   ],
   "source": [
    "print(int_to_binary(14))"
   ]
  },
  {
   "cell_type": "code",
   "execution_count": 15,
   "metadata": {},
   "outputs": [
    {
     "name": "stdout",
     "output_type": "stream",
     "text": [
      "100001000111000111000111000101\n",
      "110001101010101010101010101\n",
      "10010101\n",
      "1110\n"
     ]
    }
   ],
   "source": [
    "x_str = '100001000111000111000111000101'\n",
    "for a in CS_bin(x_str):\n",
    "    if a[-1] == '1' or a == int_to_binary(x):\n",
    "        print(a)"
   ]
  },
  {
   "cell_type": "code",
   "execution_count": 17,
   "metadata": {},
   "outputs": [
    {
     "name": "stdout",
     "output_type": "stream",
     "text": [
      "1000010010111101101000010010111100011\n",
      "1100011100011100011100011100011010101\n",
      "10010101010101010101010101010101\n",
      "1110\n"
     ]
    }
   ],
   "source": [
    "x_str = '1000010010111101101000010010111100011'\n",
    "for a in CS_bin(x_str):\n",
    "    if a[-1] == '1' or a == int_to_binary(x):\n",
    "        print(a)"
   ]
  },
  {
   "cell_type": "markdown",
   "metadata": {},
   "source": [
    "## Sampling from the regular expression"
   ]
  },
  {
   "cell_type": "code",
   "execution_count": 23,
   "metadata": {},
   "outputs": [
    {
     "name": "stdout",
     "output_type": "stream",
     "text": [
      "The binary representation of 8 is `1000`.\n",
      "\n",
      "`01001011110110001` reaches `1000` in 3 odd steps.\n",
      "\n",
      "Indeed:\n",
      "\n",
      "1001011110110001 Odd Step 1\n",
      "1110001110001010 \n",
      "111000111000101 Odd Step 2\n",
      "1010101010101000 \n",
      "101010101010100 \n",
      "10101010101010 \n",
      "1010101010101 Odd Step 3\n",
      "10000000000000 \n",
      "1000000000000 \n",
      "100000000000 \n",
      "10000000000 \n",
      "1000000000 \n",
      "100000000 \n",
      "10000000 \n",
      "1000000 \n",
      "100000 \n",
      "10000 \n",
      "1000 \n",
      "\n",
      "\n",
      "`0100101111011010000011` reaches `1000` in 3 odd steps.\n",
      "\n",
      "Indeed:\n",
      "\n",
      "100101111011010000011 Odd Step 1\n",
      "111000111000111000101 Odd Step 2\n",
      "1010101010101010101000 \n",
      "101010101010101010100 \n",
      "10101010101010101010 \n",
      "1010101010101010101 Odd Step 3\n",
      "10000000000000000000 \n",
      "1000000000000000000 \n",
      "100000000000000000 \n",
      "10000000000000000 \n",
      "1000000000000000 \n",
      "100000000000000 \n",
      "10000000000000 \n",
      "1000000000000 \n",
      "100000000000 \n",
      "10000000000 \n",
      "1000000000 \n",
      "100000000 \n",
      "10000000 \n",
      "1000000 \n",
      "100000 \n",
      "10000 \n",
      "1000 \n",
      "\n",
      "\n",
      "`01001011110110011` reaches `1000` in 3 odd steps.\n",
      "\n",
      "Indeed:\n",
      "\n",
      "1001011110110011 Odd Step 1\n",
      "1110001110001101 Odd Step 2\n",
      "10101010101010100 \n",
      "1010101010101010 \n",
      "101010101010101 Odd Step 3\n",
      "1000000000000000 \n",
      "100000000000000 \n",
      "10000000000000 \n",
      "1000000000000 \n",
      "100000000000 \n",
      "10000000000 \n",
      "1000000000 \n",
      "100000000 \n",
      "10000000 \n",
      "1000000 \n",
      "100000 \n",
      "10000 \n",
      "1000 \n",
      "\n",
      "\n",
      "`01001011` reaches `1000` in 3 odd steps.\n",
      "\n",
      "Indeed:\n",
      "\n",
      "1001011 Odd Step 1\n",
      "1110001 Odd Step 2\n",
      "10101010 \n",
      "1010101 Odd Step 3\n",
      "10000000 \n",
      "1000000 \n",
      "100000 \n",
      "10000 \n",
      "1000 \n",
      "\n",
      "\n",
      "`01001011110110011` reaches `1000` in 3 odd steps.\n",
      "\n",
      "Indeed:\n",
      "\n",
      "1001011110110011 Odd Step 1\n",
      "1110001110001101 Odd Step 2\n",
      "10101010101010100 \n",
      "1010101010101010 \n",
      "101010101010101 Odd Step 3\n",
      "1000000000000000 \n",
      "100000000000000 \n",
      "10000000000000 \n",
      "1000000000000 \n",
      "100000000000 \n",
      "10000000000 \n",
      "1000000000 \n",
      "100000000 \n",
      "10000000 \n",
      "1000000 \n",
      "100000 \n",
      "10000 \n",
      "1000 \n",
      "\n",
      "\n",
      "`010010111101100011` reaches `1000` in 3 odd steps.\n",
      "\n",
      "Indeed:\n",
      "\n",
      "10010111101100011 Odd Step 1\n",
      "11100011100010101 Odd Step 2\n",
      "101010101010100000 \n",
      "10101010101010000 \n",
      "1010101010101000 \n",
      "101010101010100 \n",
      "10101010101010 \n",
      "1010101010101 Odd Step 3\n",
      "10000000000000 \n",
      "1000000000000 \n",
      "100000000000 \n",
      "10000000000 \n",
      "1000000000 \n",
      "100000000 \n",
      "10000000 \n",
      "1000000 \n",
      "100000 \n",
      "10000 \n",
      "1000 \n",
      "\n",
      "\n",
      "`01001011110110001` reaches `1000` in 3 odd steps.\n",
      "\n",
      "Indeed:\n",
      "\n",
      "1001011110110001 Odd Step 1\n",
      "1110001110001010 \n",
      "111000111000101 Odd Step 2\n",
      "1010101010101000 \n",
      "101010101010100 \n",
      "10101010101010 \n",
      "1010101010101 Odd Step 3\n",
      "10000000000000 \n",
      "1000000000000 \n",
      "100000000000 \n",
      "10000000000 \n",
      "1000000000 \n",
      "100000000 \n",
      "10000000 \n",
      "1000000 \n",
      "100000 \n",
      "10000 \n",
      "1000 \n",
      "\n",
      "\n",
      "`01001011110001` reaches `1000` in 3 odd steps.\n",
      "\n",
      "Indeed:\n",
      "\n",
      "1001011110001 Odd Step 1\n",
      "1110001101010 \n",
      "111000110101 Odd Step 2\n",
      "1010101010000 \n",
      "101010101000 \n",
      "10101010100 \n",
      "1010101010 \n",
      "101010101 Odd Step 3\n",
      "1000000000 \n",
      "100000000 \n",
      "10000000 \n",
      "1000000 \n",
      "100000 \n",
      "10000 \n",
      "1000 \n",
      "\n",
      "\n",
      "`0100101111011001` reaches `1000` in 3 odd steps.\n",
      "\n",
      "Indeed:\n",
      "\n",
      "100101111011001 Odd Step 1\n",
      "111000111000110 \n",
      "11100011100011 Odd Step 2\n",
      "101010101010101 Odd Step 3\n",
      "1000000000000000 \n",
      "100000000000000 \n",
      "10000000000000 \n",
      "1000000000000 \n",
      "100000000000 \n",
      "10000000000 \n",
      "1000000000 \n",
      "100000000 \n",
      "10000000 \n",
      "1000000 \n",
      "100000 \n",
      "10000 \n",
      "1000 \n",
      "\n",
      "\n",
      "`01001011110001` reaches `1000` in 3 odd steps.\n",
      "\n",
      "Indeed:\n",
      "\n",
      "1001011110001 Odd Step 1\n",
      "1110001101010 \n",
      "111000110101 Odd Step 2\n",
      "1010101010000 \n",
      "101010101000 \n",
      "10101010100 \n",
      "1010101010 \n",
      "101010101 Odd Step 3\n",
      "1000000000 \n",
      "100000000 \n",
      "10000000 \n",
      "1000000 \n",
      "100000 \n",
      "10000 \n",
      "1000 \n",
      "\n",
      "\n"
     ]
    }
   ],
   "source": [
    "print(\"The binary representation of {} is `{}`.\".format(x, int_to_binary(x)))\n",
    "print()\n",
    "for sample in regular_expression_tree.get_random_samples(10, max_kleene=0):\n",
    "    print(\"`{}` reaches `{}` in {} odd steps.\".format(sample,int_to_binary(x),k))\n",
    "    print()\n",
    "    print('Indeed:\\n')\n",
    "    l = 1\n",
    "    for step in CS_bin(sample):\n",
    "        s = ''\n",
    "        if step[-1] == '1':\n",
    "            s = 'Odd Step {}'.format(l)\n",
    "            l += 1\n",
    "        print(step, s)\n",
    "    print()\n",
    "    print()"
   ]
  }
 ],
 "metadata": {
  "kernelspec": {
   "display_name": "Python 3",
   "language": "python",
   "name": "python3"
  },
  "language_info": {
   "codemirror_mode": {
    "name": "ipython",
    "version": 3
   },
   "file_extension": ".py",
   "mimetype": "text/x-python",
   "name": "python",
   "nbconvert_exporter": "python",
   "pygments_lexer": "ipython3",
   "version": "3.6.9"
  }
 },
 "nbformat": 4,
 "nbformat_minor": 2
}
